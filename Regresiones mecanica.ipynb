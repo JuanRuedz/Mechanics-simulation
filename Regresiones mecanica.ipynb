{
 "cells": [
  {
   "cell_type": "code",
   "execution_count": 2,
   "metadata": {},
   "outputs": [],
   "source": [
    "import pandas as pd\n",
    "import numpy as np\n",
    "import matplotlib.pyplot as plt\n",
    "import scipy.optimize\n",
    "import statistics\n",
    "import scipy.stats as stats\n",
    "import statsmodels.api as sm\n",
    "import statsmodels.formula.api as smf"
   ]
  },
  {
   "cell_type": "code",
   "execution_count": 3,
   "metadata": {},
   "outputs": [
    {
     "data": {
      "text/html": [
       "<div>\n",
       "<style scoped>\n",
       "    .dataframe tbody tr th:only-of-type {\n",
       "        vertical-align: middle;\n",
       "    }\n",
       "\n",
       "    .dataframe tbody tr th {\n",
       "        vertical-align: top;\n",
       "    }\n",
       "\n",
       "    .dataframe thead th {\n",
       "        text-align: right;\n",
       "    }\n",
       "</style>\n",
       "<table border=\"1\" class=\"dataframe\">\n",
       "  <thead>\n",
       "    <tr style=\"text-align: right;\">\n",
       "      <th></th>\n",
       "      <th>t</th>\n",
       "      <th>x</th>\n",
       "    </tr>\n",
       "  </thead>\n",
       "  <tbody>\n",
       "    <tr>\n",
       "      <th>0</th>\n",
       "      <td>0.067</td>\n",
       "      <td>459.700</td>\n",
       "    </tr>\n",
       "    <tr>\n",
       "      <th>1</th>\n",
       "      <td>0.100</td>\n",
       "      <td>332.700</td>\n",
       "    </tr>\n",
       "    <tr>\n",
       "      <th>2</th>\n",
       "      <td>0.133</td>\n",
       "      <td>42.340</td>\n",
       "    </tr>\n",
       "    <tr>\n",
       "      <th>3</th>\n",
       "      <td>0.167</td>\n",
       "      <td>-248.000</td>\n",
       "    </tr>\n",
       "    <tr>\n",
       "      <th>4</th>\n",
       "      <td>0.200</td>\n",
       "      <td>-205.700</td>\n",
       "    </tr>\n",
       "    <tr>\n",
       "      <th>...</th>\n",
       "      <td>...</td>\n",
       "      <td>...</td>\n",
       "    </tr>\n",
       "    <tr>\n",
       "      <th>118</th>\n",
       "      <td>4.000</td>\n",
       "      <td>6.049</td>\n",
       "    </tr>\n",
       "    <tr>\n",
       "      <th>119</th>\n",
       "      <td>4.033</td>\n",
       "      <td>30.240</td>\n",
       "    </tr>\n",
       "    <tr>\n",
       "      <th>120</th>\n",
       "      <td>4.067</td>\n",
       "      <td>12.100</td>\n",
       "    </tr>\n",
       "    <tr>\n",
       "      <th>121</th>\n",
       "      <td>4.100</td>\n",
       "      <td>0.000</td>\n",
       "    </tr>\n",
       "    <tr>\n",
       "      <th>122</th>\n",
       "      <td>4.133</td>\n",
       "      <td>0.000</td>\n",
       "    </tr>\n",
       "  </tbody>\n",
       "</table>\n",
       "<p>123 rows × 2 columns</p>\n",
       "</div>"
      ],
      "text/plain": [
       "         t        x\n",
       "0    0.067  459.700\n",
       "1    0.100  332.700\n",
       "2    0.133   42.340\n",
       "3    0.167 -248.000\n",
       "4    0.200 -205.700\n",
       "..     ...      ...\n",
       "118  4.000    6.049\n",
       "119  4.033   30.240\n",
       "120  4.067   12.100\n",
       "121  4.100    0.000\n",
       "122  4.133    0.000\n",
       "\n",
       "[123 rows x 2 columns]"
      ]
     },
     "execution_count": 3,
     "metadata": {},
     "output_type": "execute_result"
    }
   ],
   "source": [
    "data= pd.read_excel(r'C:\\Users\\usuario\\Downloads\\regresionpendulo\\datosregresionmecanica.xlsx',sep=\" \", header=None)\n",
    "data.rename(columns={0:\"t\",1:\"x\",2:\"y\"}, inplace=True)\n",
    "\n",
    "data\n"
   ]
  },
  {
   "cell_type": "code",
   "execution_count": 4,
   "metadata": {},
   "outputs": [],
   "source": [
    "x=[]\n",
    "t=[]\n",
    "for i in data.x:\n",
    "    x.append(i)\n",
    "for i in data.t:\n",
    "    t.append(i)"
   ]
  },
  {
   "cell_type": "code",
   "execution_count": 57,
   "metadata": {},
   "outputs": [
    {
     "data": {
      "image/png": "[encoded data removed]",
      "text/plain": [
       "<Figure size 504x360 with 1 Axes>"
      ]
     },
     "metadata": {
      "needs_background": "light"
     },
     "output_type": "display_data"
    },
    {
     "data": {
      "text/plain": [
       "Text(0, 0.5, 'Residuos normalizados')"
      ]
     },
     "execution_count": 57,
     "metadata": {},
     "output_type": "execute_result"
    },
    {
     "data": {
      "image/png": "[encoded data removed]",
      "text/plain": [
       "<Figure size 432x288 with 1 Axes>"
      ]
     },
     "metadata": {
      "needs_background": "light"
     },
     "output_type": "display_data"
    }
   ],
   "source": [
    "bins = 20\n",
    "x=np.array(x)\n",
    "t=np.array(t)\n",
    "f = plt.figure()\n",
    "f.set_figwidth(7)\n",
    "f.set_figheight(5)\n",
    "sig = np.full_like(x,0.01)\n",
    "#print(sig)\n",
    "D, pcov = scipy.optimize.curve_fit(lambda t,A,gamma,omega,D,E: A*np.exp(-gamma*t)*np.sin(omega*t+D)+E, t, x, sigma=sig, maxfev=100000)\n",
    "err = sig\n",
    "\n",
    "def Y(t,A,gamma,omega,D,E): \n",
    "    return A*np.exp(-gamma*t)*np.sin(omega*t+D)+E\n",
    "\n",
    "xf = t\n",
    "yf = Y(xf, D[0], D[1],D[2],D[3],D[4])\n",
    "plt.scatter(t,x,color='black',marker='.')\n",
    "plt.plot(xf, yf, color='#D0312D')\n",
    "plt.xlabel(\"Tiempo\")\n",
    "plt.ylabel(\"Número de conteos\")\n",
    "\n",
    "##barras de error\n",
    "plt.errorbar(t, x, yerr=0.01, linestyle= '', color='#5A5A5A')\n",
    "plt.show()\n",
    "\n",
    "#residuales\n",
    "r = (x - Y(t,D[0],D[1],D[2],D[3],D[4]))#/(sig)\n",
    "f = plt.figure()\n",
    "#f.set_figwidth(7)\n",
    "#f.set_figheight(3)\n",
    "plt.scatter(t,r, color='black',marker='.')\n",
    "plt.axhline(y = 0, color = '#D0312D', linestyle = '-')\n",
    "r_std = np.std(r)\n",
    "#plt.errorbar(r, t, yerr=r_std, linestyle= '')\n",
    "plt.xlabel(\"Tiempo\")\n",
    "plt.ylabel(\"Residuos normalizados\")\n"
   ]
  },
  {
   "cell_type": "code",
   "execution_count": 58,
   "metadata": {
    "scrolled": true
   },
   "outputs": [
    {
     "name": "stdout",
     "output_type": "stream",
     "text": [
      "[0.00333894 0.13841875 0.46137645 0.1111214 ]\n",
      "[0.         0.03414634 0.06829268 0.10243902 0.13658537 0.17073171\n",
      " 0.20487805 0.23902439 0.27317073 0.30731707 0.34146341 0.37560976\n",
      " 0.4097561  0.44390244 0.47804878 0.51219512 0.54634146 0.5804878\n",
      " 0.61463415 0.64878049 0.68292683 0.71707317 0.75121951 0.78536585\n",
      " 0.8195122  0.85365854 0.88780488 0.92195122 0.95609756 0.9902439\n",
      " 1.02439024 1.05853659 1.09268293 1.12682927 1.16097561 1.19512195\n",
      " 1.22926829 1.26341463 1.29756098 1.33170732 1.36585366 1.4\n",
      " 1.43414634 1.46829268 1.50243902 1.53658537 1.57073171 1.60487805\n",
      " 1.63902439 1.67317073 1.70731707 1.74146341 1.77560976 1.8097561\n",
      " 1.84390244 1.87804878 1.91219512 1.94634146 1.9804878  2.01463415\n",
      " 2.04878049 2.08292683 2.11707317 2.15121951 2.18536585 2.2195122\n",
      " 2.25365854 2.28780488 2.32195122 2.35609756 2.3902439  2.42439024\n",
      " 2.45853659 2.49268293 2.52682927 2.56097561 2.59512195 2.62926829\n",
      " 2.66341463 2.69756098 2.73170732 2.76585366 2.8        2.83414634\n",
      " 2.86829268 2.90243902 2.93658537 2.97073171 3.00487805 3.03902439\n",
      " 3.07317073 3.10731707 3.14146341 3.17560976 3.2097561  3.24390244\n",
      " 3.27804878 3.31219512 3.34634146 3.3804878  3.41463415 3.44878049\n",
      " 3.48292683 3.51707317 3.55121951 3.58536585 3.6195122  3.65365854\n",
      " 3.68780488 3.72195122 3.75609756 3.7902439  3.82439024 3.85853659\n",
      " 3.89268293 3.92682927 3.96097561 3.99512195 4.02926829 4.06341463\n",
      " 4.09756098 4.13170732 4.16585366]\n",
      "(-0.05171182969425743, 0.5652481569524871)\n"
     ]
    },
    {
     "data": {
      "image/png": "[encoded data removed]",
      "text/plain": [
       "<Figure size 432x288 with 1 Axes>"
      ]
     },
     "metadata": {
      "needs_background": "light"
     },
     "output_type": "display_data"
    },
    {
     "data": {
      "image/png": "[encoded data removed]",
      "text/plain": [
       "<Figure size 432x288 with 1 Axes>"
      ]
     },
     "metadata": {
      "needs_background": "light"
     },
     "output_type": "display_data"
    }
   ],
   "source": [
    "x = np.array(x)\n",
    "t = np.array(t)\n",
    "reg, cov = np.polyfit(t,x,3,cov=True)\n",
    "error = np.diag(cov)\n",
    "print(error)\n",
    "def f(x):\n",
    "    return (1.0971317)*np.power(x,3) - 8.62144062*np.power(x,2) + 21.03328282*x + 9.87214319\n",
    "points = np.arange(0,4.2,4.2/123)\n",
    "print(points)\n",
    "xpoints = f(points)\n",
    "plt.plot(points,xpoints, color='red')\n",
    "plt.scatter(t,x,color='black',marker='.')\n",
    "r = (x - f(t))#/(sig)\n",
    "f = plt.figure()\n",
    "#f.set_figwidth(7)\n",
    "#f.set_figheight(3)\n",
    "plt.scatter(t,r,color='black',marker='.')\n",
    "plt.axhline(y = 0, color = '#D0312D', linestyle = '-')\n",
    "r_std = np.std(r)\n",
    "#plt.errorbar(t, r, yerr=r_std, linestyle= '')\n",
    "plt.xlabel(\"Tiempo \")\n",
    "plt.ylabel(\"Residuos normalizados\")\n",
    "\n",
    "# Correlacion entre residuales\n",
    "print(stats.pearsonr(r, t))"
   ]
  },
  {
   "cell_type": "markdown",
   "metadata": {},
   "source": [
    "Hay mas correlaciòn estadistica, pero menos sentido fisico"
   ]
  },
  {
   "cell_type": "markdown",
   "metadata": {},
   "source": []
  },
  {
   "cell_type": "code",
   "execution_count": 11,
   "metadata": {
    "scrolled": true
   },
   "outputs": [
    {
     "data": {
      "image/png": "[encoded data removed]",
      "text/plain": [
       "<Figure size 504x360 with 1 Axes>"
      ]
     },
     "metadata": {
      "needs_background": "light"
     },
     "output_type": "display_data"
    },
    {
     "name": "stdout",
     "output_type": "stream",
     "text": [
      "(0.009845310568915439, 0.9139342051939289)\n"
     ]
    },
    {
     "data": {
      "image/png": "[encoded data removed]",
      "text/plain": [
       "<Figure size 432x288 with 1 Axes>"
      ]
     },
     "metadata": {
      "needs_background": "light"
     },
     "output_type": "display_data"
    }
   ],
   "source": [
    "x=np.array(x)\n",
    "t=np.array(t)\n",
    "f = plt.figure()\n",
    "f.set_figwidth(7)\n",
    "f.set_figheight(5)\n",
    "sig = np.full_like(x,0.01)\n",
    "#print(sig)\n",
    "D, pcov = scipy.optimize.curve_fit(lambda t,N,a,b: N*np.exp(-a*t)+b, t, x, sigma=sig, maxfev=1000000)\n",
    "err = sig\n",
    "\n",
    "def Y(t,a,N,b): \n",
    "    return(N*np.exp(-a*t)+b)\n",
    "\n",
    "xf = t\n",
    "yf = Y(xf, D[0], D[1],D[2])\n",
    "plt.scatter(t,x,color='black',marker='.')\n",
    "plt.plot(xf, yf, color='#D0312D')\n",
    "plt.xlabel(\"Tiempo\")\n",
    "plt.ylabel(\"x\")\n",
    "\n",
    "##barras de error\n",
    "plt.errorbar(t, x, yerr=0.01, linestyle= '', color='#5A5A5A')\n",
    "plt.show()\n",
    "\n",
    "#residuales\n",
    "r = (x - Y(t,D[0],D[1],D[2]))#/(sig)\n",
    "f = plt.figure()\n",
    "#f.set_figwidth(7)\n",
    "#f.set_figheight(3)\n",
    "plt.scatter(t,r,color='black',marker='.')\n",
    "plt.axhline(y = 0, color = '#D0312D', linestyle = '-')\n",
    "r_std = np.std(r)\n",
    "#plt.errorbar(r, t, yerr=r_std, linestyle= '')\n",
    "plt.xlabel(\"Tiempo\")\n",
    "plt.ylabel(\"Residuos normalizados\")\n",
    "\n",
    "# Correlacion entre residuales\n",
    "print(stats.pearsonr(r, t))"
   ]
  },
  {
   "cell_type": "code",
   "execution_count": null,
   "metadata": {},
   "outputs": [],
   "source": [
    "Mas sentido fisico pero menos correlaciòn. Se espera que el movimiento final sel pendulo sea un oscilador harmonico amortiguado."
   ]
  },
  {
   "cell_type": "markdown",
   "metadata": {},
   "source": []
  },
  {
   "cell_type": "code",
   "execution_count": 40,
   "metadata": {},
   "outputs": [
    {
     "data": {
      "text/html": [
       "<div>\n",
       "<style scoped>\n",
       "    .dataframe tbody tr th:only-of-type {\n",
       "        vertical-align: middle;\n",
       "    }\n",
       "\n",
       "    .dataframe tbody tr th {\n",
       "        vertical-align: top;\n",
       "    }\n",
       "\n",
       "    .dataframe thead th {\n",
       "        text-align: right;\n",
       "    }\n",
       "</style>\n",
       "<table border=\"1\" class=\"dataframe\">\n",
       "  <thead>\n",
       "    <tr style=\"text-align: right;\">\n",
       "      <th></th>\n",
       "      <th>t</th>\n",
       "      <th>x</th>\n",
       "      <th>y</th>\n",
       "    </tr>\n",
       "  </thead>\n",
       "  <tbody>\n",
       "    <tr>\n",
       "      <th>0</th>\n",
       "      <td>0.033</td>\n",
       "      <td>8.468</td>\n",
       "      <td>17.78</td>\n",
       "    </tr>\n",
       "    <tr>\n",
       "      <th>1</th>\n",
       "      <td>0.067</td>\n",
       "      <td>8.704</td>\n",
       "      <td>17.88</td>\n",
       "    </tr>\n",
       "    <tr>\n",
       "      <th>2</th>\n",
       "      <td>0.100</td>\n",
       "      <td>9.503</td>\n",
       "      <td>18.11</td>\n",
       "    </tr>\n",
       "    <tr>\n",
       "      <th>3</th>\n",
       "      <td>0.133</td>\n",
       "      <td>11.010</td>\n",
       "      <td>17.83</td>\n",
       "    </tr>\n",
       "    <tr>\n",
       "      <th>4</th>\n",
       "      <td>0.167</td>\n",
       "      <td>12.190</td>\n",
       "      <td>17.78</td>\n",
       "    </tr>\n",
       "    <tr>\n",
       "      <th>5</th>\n",
       "      <td>0.200</td>\n",
       "      <td>13.310</td>\n",
       "      <td>17.88</td>\n",
       "    </tr>\n",
       "    <tr>\n",
       "      <th>6</th>\n",
       "      <td>0.233</td>\n",
       "      <td>13.880</td>\n",
       "      <td>17.69</td>\n",
       "    </tr>\n",
       "    <tr>\n",
       "      <th>7</th>\n",
       "      <td>0.267</td>\n",
       "      <td>14.540</td>\n",
       "      <td>17.69</td>\n",
       "    </tr>\n",
       "    <tr>\n",
       "      <th>8</th>\n",
       "      <td>0.300</td>\n",
       "      <td>15.380</td>\n",
       "      <td>17.83</td>\n",
       "    </tr>\n",
       "    <tr>\n",
       "      <th>9</th>\n",
       "      <td>0.333</td>\n",
       "      <td>16.000</td>\n",
       "      <td>17.83</td>\n",
       "    </tr>\n",
       "    <tr>\n",
       "      <th>10</th>\n",
       "      <td>0.367</td>\n",
       "      <td>16.700</td>\n",
       "      <td>17.74</td>\n",
       "    </tr>\n",
       "    <tr>\n",
       "      <th>11</th>\n",
       "      <td>0.400</td>\n",
       "      <td>17.500</td>\n",
       "      <td>17.83</td>\n",
       "    </tr>\n",
       "    <tr>\n",
       "      <th>12</th>\n",
       "      <td>0.433</td>\n",
       "      <td>17.920</td>\n",
       "      <td>17.83</td>\n",
       "    </tr>\n",
       "    <tr>\n",
       "      <th>13</th>\n",
       "      <td>0.467</td>\n",
       "      <td>18.540</td>\n",
       "      <td>17.74</td>\n",
       "    </tr>\n",
       "    <tr>\n",
       "      <th>14</th>\n",
       "      <td>0.500</td>\n",
       "      <td>19.150</td>\n",
       "      <td>17.97</td>\n",
       "    </tr>\n",
       "    <tr>\n",
       "      <th>15</th>\n",
       "      <td>0.533</td>\n",
       "      <td>19.850</td>\n",
       "      <td>17.92</td>\n",
       "    </tr>\n",
       "    <tr>\n",
       "      <th>16</th>\n",
       "      <td>0.567</td>\n",
       "      <td>20.470</td>\n",
       "      <td>17.88</td>\n",
       "    </tr>\n",
       "    <tr>\n",
       "      <th>17</th>\n",
       "      <td>0.600</td>\n",
       "      <td>21.120</td>\n",
       "      <td>17.88</td>\n",
       "    </tr>\n",
       "    <tr>\n",
       "      <th>18</th>\n",
       "      <td>0.633</td>\n",
       "      <td>21.590</td>\n",
       "      <td>17.97</td>\n",
       "    </tr>\n",
       "    <tr>\n",
       "      <th>19</th>\n",
       "      <td>0.667</td>\n",
       "      <td>22.350</td>\n",
       "      <td>17.92</td>\n",
       "    </tr>\n",
       "    <tr>\n",
       "      <th>20</th>\n",
       "      <td>0.700</td>\n",
       "      <td>22.820</td>\n",
       "      <td>18.02</td>\n",
       "    </tr>\n",
       "    <tr>\n",
       "      <th>21</th>\n",
       "      <td>0.733</td>\n",
       "      <td>23.050</td>\n",
       "      <td>18.02</td>\n",
       "    </tr>\n",
       "    <tr>\n",
       "      <th>22</th>\n",
       "      <td>0.767</td>\n",
       "      <td>23.480</td>\n",
       "      <td>17.97</td>\n",
       "    </tr>\n",
       "    <tr>\n",
       "      <th>23</th>\n",
       "      <td>0.800</td>\n",
       "      <td>23.620</td>\n",
       "      <td>17.97</td>\n",
       "    </tr>\n",
       "    <tr>\n",
       "      <th>24</th>\n",
       "      <td>0.833</td>\n",
       "      <td>23.710</td>\n",
       "      <td>17.97</td>\n",
       "    </tr>\n",
       "    <tr>\n",
       "      <th>25</th>\n",
       "      <td>0.867</td>\n",
       "      <td>23.950</td>\n",
       "      <td>18.02</td>\n",
       "    </tr>\n",
       "    <tr>\n",
       "      <th>26</th>\n",
       "      <td>0.900</td>\n",
       "      <td>23.950</td>\n",
       "      <td>18.02</td>\n",
       "    </tr>\n",
       "    <tr>\n",
       "      <th>27</th>\n",
       "      <td>0.933</td>\n",
       "      <td>23.950</td>\n",
       "      <td>18.02</td>\n",
       "    </tr>\n",
       "    <tr>\n",
       "      <th>28</th>\n",
       "      <td>0.967</td>\n",
       "      <td>23.950</td>\n",
       "      <td>18.02</td>\n",
       "    </tr>\n",
       "    <tr>\n",
       "      <th>29</th>\n",
       "      <td>1.000</td>\n",
       "      <td>23.950</td>\n",
       "      <td>18.02</td>\n",
       "    </tr>\n",
       "    <tr>\n",
       "      <th>30</th>\n",
       "      <td>1.033</td>\n",
       "      <td>23.950</td>\n",
       "      <td>18.02</td>\n",
       "    </tr>\n",
       "  </tbody>\n",
       "</table>\n",
       "</div>"
      ],
      "text/plain": [
       "        t       x      y\n",
       "0   0.033   8.468  17.78\n",
       "1   0.067   8.704  17.88\n",
       "2   0.100   9.503  18.11\n",
       "3   0.133  11.010  17.83\n",
       "4   0.167  12.190  17.78\n",
       "5   0.200  13.310  17.88\n",
       "6   0.233  13.880  17.69\n",
       "7   0.267  14.540  17.69\n",
       "8   0.300  15.380  17.83\n",
       "9   0.333  16.000  17.83\n",
       "10  0.367  16.700  17.74\n",
       "11  0.400  17.500  17.83\n",
       "12  0.433  17.920  17.83\n",
       "13  0.467  18.540  17.74\n",
       "14  0.500  19.150  17.97\n",
       "15  0.533  19.850  17.92\n",
       "16  0.567  20.470  17.88\n",
       "17  0.600  21.120  17.88\n",
       "18  0.633  21.590  17.97\n",
       "19  0.667  22.350  17.92\n",
       "20  0.700  22.820  18.02\n",
       "21  0.733  23.050  18.02\n",
       "22  0.767  23.480  17.97\n",
       "23  0.800  23.620  17.97\n",
       "24  0.833  23.710  17.97\n",
       "25  0.867  23.950  18.02\n",
       "26  0.900  23.950  18.02\n",
       "27  0.933  23.950  18.02\n",
       "28  0.967  23.950  18.02\n",
       "29  1.000  23.950  18.02\n",
       "30  1.033  23.950  18.02"
      ]
     },
     "execution_count": 40,
     "metadata": {},
     "output_type": "execute_result"
    }
   ],
   "source": [
    "data2= pd.read_excel(r'C:\\Users\\usuario\\Downloads\\regresionpendulo\\datosmecanica2.xlsx',sep=\" \", header=None)\n",
    "data2.rename(columns={0:\"t\",1:\"x\",2:\"y\"}, inplace=True)\n",
    "x2=[]\n",
    "t2=[]\n",
    "for i in data2.x:\n",
    "    x2.append(i)\n",
    "for i in data2.t:\n",
    "    t2.append(i)\n",
    "data2"
   ]
  },
  {
   "cell_type": "code",
   "execution_count": 45,
   "metadata": {},
   "outputs": [
    {
     "name": "stdout",
     "output_type": "stream",
     "text": [
      "[-16.07473926  33.50198876   6.79669263] [0.47062069 0.56873056 0.03044233]\n",
      "(-9.556419738876443e-09, 0.9999999592909348)\n"
     ]
    },
    {
     "data": {
      "image/png": "[encoded data removed]",
      "text/plain": [
       "<Figure size 432x288 with 1 Axes>"
      ]
     },
     "metadata": {
      "needs_background": "light"
     },
     "output_type": "display_data"
    },
    {
     "data": {
      "image/png": "[encoded data removed]",
      "text/plain": [
       "<Figure size 432x288 with 1 Axes>"
      ]
     },
     "metadata": {
      "needs_background": "light"
     },
     "output_type": "display_data"
    }
   ],
   "source": [
    "x2 = np.array(x2)\n",
    "t2 = np.array(t2)\n",
    "reg, cov = np.polyfit(t2,x2,2,cov=True)\n",
    "error = np.diag(cov)\n",
    "print(reg,error)\n",
    "\n",
    "def f(x):\n",
    "    return -16.07473926*np.power(x,2) +  33.50198876*np.power(x,1) + 6.79669263*np.power(x,0)\n",
    "\n",
    "points = np.arange(0, 1.1, 1.1/30)\n",
    "xpoints = f(points)\n",
    "plt.plot(points, xpoints, color='red')\n",
    "plt.scatter(t2, x2,color='black', marker='.')\n",
    "r = (x2 - f(t2))#/(sig)\n",
    "f = plt.figure()\n",
    "#f.set_figwidth(7)\n",
    "#f.set_figheight(3)\n",
    "plt.scatter(t2,r,color='black', marker='.')\n",
    "plt.axhline(y = 0, color = '#D0312D', linestyle = '-')\n",
    "r_std = np.std(r)\n",
    "#plt.errorbar(t, r, yerr=r_std, linestyle= '')\n",
    "plt.xlabel(\"Tiempo\")\n",
    "plt.ylabel(\"Residuos normalizados\")\n",
    "\n",
    "# Correlacion entre residuales\n",
    "print(stats.pearsonr(r, t2))"
   ]
  },
  {
   "cell_type": "code",
   "execution_count": 149,
   "metadata": {},
   "outputs": [
    {
     "data": {
      "text/html": [
       "<div>\n",
       "<style scoped>\n",
       "    .dataframe tbody tr th:only-of-type {\n",
       "        vertical-align: middle;\n",
       "    }\n",
       "\n",
       "    .dataframe tbody tr th {\n",
       "        vertical-align: top;\n",
       "    }\n",
       "\n",
       "    .dataframe thead th {\n",
       "        text-align: right;\n",
       "    }\n",
       "</style>\n",
       "<table border=\"1\" class=\"dataframe\">\n",
       "  <thead>\n",
       "    <tr style=\"text-align: right;\">\n",
       "      <th></th>\n",
       "      <th>t</th>\n",
       "      <th>x</th>\n",
       "      <th>y</th>\n",
       "    </tr>\n",
       "  </thead>\n",
       "  <tbody>\n",
       "    <tr>\n",
       "      <th>0</th>\n",
       "      <td>1.033</td>\n",
       "      <td>23.95</td>\n",
       "      <td>18.02</td>\n",
       "    </tr>\n",
       "    <tr>\n",
       "      <th>1</th>\n",
       "      <td>1.067</td>\n",
       "      <td>24.23</td>\n",
       "      <td>18.02</td>\n",
       "    </tr>\n",
       "    <tr>\n",
       "      <th>2</th>\n",
       "      <td>1.100</td>\n",
       "      <td>24.28</td>\n",
       "      <td>18.02</td>\n",
       "    </tr>\n",
       "    <tr>\n",
       "      <th>3</th>\n",
       "      <td>1.133</td>\n",
       "      <td>24.46</td>\n",
       "      <td>18.02</td>\n",
       "    </tr>\n",
       "    <tr>\n",
       "      <th>4</th>\n",
       "      <td>1.167</td>\n",
       "      <td>24.51</td>\n",
       "      <td>18.02</td>\n",
       "    </tr>\n",
       "    <tr>\n",
       "      <th>...</th>\n",
       "      <td>...</td>\n",
       "      <td>...</td>\n",
       "      <td>...</td>\n",
       "    </tr>\n",
       "    <tr>\n",
       "      <th>89</th>\n",
       "      <td>4.000</td>\n",
       "      <td>25.64</td>\n",
       "      <td>18.11</td>\n",
       "    </tr>\n",
       "    <tr>\n",
       "      <th>90</th>\n",
       "      <td>4.033</td>\n",
       "      <td>25.59</td>\n",
       "      <td>18.11</td>\n",
       "    </tr>\n",
       "    <tr>\n",
       "      <th>91</th>\n",
       "      <td>4.067</td>\n",
       "      <td>25.59</td>\n",
       "      <td>18.11</td>\n",
       "    </tr>\n",
       "    <tr>\n",
       "      <th>92</th>\n",
       "      <td>4.100</td>\n",
       "      <td>25.59</td>\n",
       "      <td>18.11</td>\n",
       "    </tr>\n",
       "    <tr>\n",
       "      <th>93</th>\n",
       "      <td>4.133</td>\n",
       "      <td>25.59</td>\n",
       "      <td>18.11</td>\n",
       "    </tr>\n",
       "  </tbody>\n",
       "</table>\n",
       "<p>94 rows × 3 columns</p>\n",
       "</div>"
      ],
      "text/plain": [
       "        t      x      y\n",
       "0   1.033  23.95  18.02\n",
       "1   1.067  24.23  18.02\n",
       "2   1.100  24.28  18.02\n",
       "3   1.133  24.46  18.02\n",
       "4   1.167  24.51  18.02\n",
       "..    ...    ...    ...\n",
       "89  4.000  25.64  18.11\n",
       "90  4.033  25.59  18.11\n",
       "91  4.067  25.59  18.11\n",
       "92  4.100  25.59  18.11\n",
       "93  4.133  25.59  18.11\n",
       "\n",
       "[94 rows x 3 columns]"
      ]
     },
     "execution_count": 149,
     "metadata": {},
     "output_type": "execute_result"
    }
   ],
   "source": [
    "data3= pd.read_excel(r'C:\\Users\\usuario\\Downloads\\regresionpendulo\\datosregresionmecanica.xlsx',sep=\" \", header=None)\n",
    "data3.rename(columns={0:\"t\",1:\"x\",2:\"y\"}, inplace=True)\n",
    "x3=[]\n",
    "t3=[]\n",
    "n=0\n",
    "m = 0\n",
    "for i in data3.x:\n",
    "    x3.append(i)\n",
    "for i in data3.t:\n",
    "    t3.append(i)\n",
    "data3"
   ]
  },
  {
   "cell_type": "code",
   "execution_count": 155,
   "metadata": {},
   "outputs": [
    {
     "data": {
      "image/png": "[encoded data removed]",
      "text/plain": [
       "<Figure size 504x360 with 1 Axes>"
      ]
     },
     "metadata": {
      "needs_background": "light"
     },
     "output_type": "display_data"
    },
    {
     "ename": "ValueError",
     "evalue": "x and y must have the same length.",
     "output_type": "error",
     "traceback": [
      "\u001b[1;31m---------------------------------------------------------------------------\u001b[0m",
      "\u001b[1;31mValueError\u001b[0m                                Traceback (most recent call last)",
      "\u001b[1;32m<ipython-input-155-d4f86874899a>\u001b[0m in \u001b[0;36m<module>\u001b[1;34m\u001b[0m\n\u001b[0;32m     37\u001b[0m \u001b[1;33m\u001b[0m\u001b[0m\n\u001b[0;32m     38\u001b[0m \u001b[1;31m# Correlacion entre residuales\u001b[0m\u001b[1;33m\u001b[0m\u001b[1;33m\u001b[0m\u001b[1;33m\u001b[0m\u001b[0m\n\u001b[1;32m---> 39\u001b[1;33m \u001b[0mprint\u001b[0m\u001b[1;33m(\u001b[0m\u001b[0mstats\u001b[0m\u001b[1;33m.\u001b[0m\u001b[0mpearsonr\u001b[0m\u001b[1;33m(\u001b[0m\u001b[0mr\u001b[0m\u001b[1;33m,\u001b[0m \u001b[0mt\u001b[0m\u001b[1;33m)\u001b[0m\u001b[1;33m)\u001b[0m\u001b[1;33m\u001b[0m\u001b[1;33m\u001b[0m\u001b[0m\n\u001b[0m",
      "\u001b[1;32mE:\\Anaconda\\lib\\site-packages\\scipy\\stats\\stats.py\u001b[0m in \u001b[0;36mpearsonr\u001b[1;34m(x, y)\u001b[0m\n\u001b[0;32m   3833\u001b[0m     \u001b[0mn\u001b[0m \u001b[1;33m=\u001b[0m \u001b[0mlen\u001b[0m\u001b[1;33m(\u001b[0m\u001b[0mx\u001b[0m\u001b[1;33m)\u001b[0m\u001b[1;33m\u001b[0m\u001b[1;33m\u001b[0m\u001b[0m\n\u001b[0;32m   3834\u001b[0m     \u001b[1;32mif\u001b[0m \u001b[0mn\u001b[0m \u001b[1;33m!=\u001b[0m \u001b[0mlen\u001b[0m\u001b[1;33m(\u001b[0m\u001b[0my\u001b[0m\u001b[1;33m)\u001b[0m\u001b[1;33m:\u001b[0m\u001b[1;33m\u001b[0m\u001b[1;33m\u001b[0m\u001b[0m\n\u001b[1;32m-> 3835\u001b[1;33m         \u001b[1;32mraise\u001b[0m \u001b[0mValueError\u001b[0m\u001b[1;33m(\u001b[0m\u001b[1;34m'x and y must have the same length.'\u001b[0m\u001b[1;33m)\u001b[0m\u001b[1;33m\u001b[0m\u001b[1;33m\u001b[0m\u001b[0m\n\u001b[0m\u001b[0;32m   3836\u001b[0m \u001b[1;33m\u001b[0m\u001b[0m\n\u001b[0;32m   3837\u001b[0m     \u001b[1;32mif\u001b[0m \u001b[0mn\u001b[0m \u001b[1;33m<\u001b[0m \u001b[1;36m2\u001b[0m\u001b[1;33m:\u001b[0m\u001b[1;33m\u001b[0m\u001b[1;33m\u001b[0m\u001b[0m\n",
      "\u001b[1;31mValueError\u001b[0m: x and y must have the same length."
     ]
    },
    {
     "data": {
      "image/png": "[encoded data removed]",
      "text/plain": [
       "<Figure size 432x288 with 1 Axes>"
      ]
     },
     "metadata": {
      "needs_background": "light"
     },
     "output_type": "display_data"
    }
   ],
   "source": [
    "x3=np.array(x3)\n",
    "t3 = np.array(t3)\n",
    "\n",
    "f = plt.figure()\n",
    "f.set_figwidth(7)\n",
    "f.set_figheight(5)\n",
    "sig = np.full_like(x,0.01)\n",
    "#print(sig)\n",
    "D, pcov = scipy.optimize.curve_fit(lambda t,N,a,b: N*np.sin(t+a)+b, t, x, sigma=sig, maxfev=100000)\n",
    "err = sig\n",
    "\n",
    "def M(t,N,a,b): \n",
    "    return(N*np.sin(t+a)+b)\n",
    "\n",
    "xf3 = t3\n",
    "yf3 = M(xf3, D[0], D[1],D[2])\n",
    "plt.scatter(t3,x3)\n",
    "plt.plot(xf3, yf3, color='#D0312D')\n",
    "plt.xlabel(\"Tiempo de decaimiento [µs]\")\n",
    "plt.ylabel(\"Número de conteos\")\n",
    "\n",
    "##barras de error\n",
    "plt.errorbar(t3, x3, yerr=0.01, linestyle= '', color='#5A5A5A')\n",
    "plt.show()\n",
    "\n",
    "#residuales\n",
    "r = (x3 - Y(t3,D[0],D[1]))#/(sig)\n",
    "f = plt.figure()\n",
    "#f.set_figwidth(7)\n",
    "#f.set_figheight(3)\n",
    "plt.scatter(t3,r)\n",
    "plt.axhline(y = 0, color = '#D0312D', linestyle = '-')\n",
    "r_std = np.std(r)\n",
    "#plt.errorbar(r, t, yerr=r_std, linestyle= '')\n",
    "plt.xlabel(\"Tiempo\")\n",
    "plt.ylabel(\"Residuos normalizados\")\n",
    "\n",
    "# Correlacion entre residuales\n",
    "print(stats.pearsonr(r, t))"
   ]
  },
  {
   "cell_type": "code",
   "execution_count": 21,
   "metadata": {},
   "outputs": [],
   "source": [
    "m = 1.883531627e-28\n",
    "e = 1.602177e-19*1e9"
   ]
  },
  {
   "cell_type": "code",
   "execution_count": 22,
   "metadata": {},
   "outputs": [],
   "source": [
    "def Gf(tau, mass):\n",
    "    c = 299792458\n",
    "    h = 1.05457182e-34\n",
    "    return np.sqrt((192*(np.pi**3)*(h**7))/(tau*(mass**5)*(c**4)))"
   ]
  },
  {
   "cell_type": "code",
   "execution_count": 195,
   "metadata": {},
   "outputs": [
    {
     "data": {
      "text/plain": [
       "9.157360209578802e-53"
      ]
     },
     "execution_count": 195,
     "metadata": {},
     "output_type": "execute_result"
    }
   ],
   "source": [
    "G1=Gf(tau1*(1e-6), m)\n",
    "G1/e"
   ]
  },
  {
   "cell_type": "code",
   "execution_count": 196,
   "metadata": {},
   "outputs": [
    {
     "data": {
      "text/plain": [
       "9.307079415066103e-53"
      ]
     },
     "execution_count": 196,
     "metadata": {},
     "output_type": "execute_result"
    }
   ],
   "source": [
    "G2=Gf(tau2*(1e-6),m)\n",
    "G2/e"
   ]
  },
  {
   "cell_type": "code",
   "execution_count": 80,
   "metadata": {},
   "outputs": [],
   "source": [
    "def rho(tau):\n",
    "    tau_p = 2.1969811e-6\n",
    "    tau_n = 2.0430003e-6\n",
    "    return (-tau_n+tau_p*tau-tau_p)/(-tau_n*tau + tau_n + tau_p)"
   ]
  },
  {
   "cell_type": "code",
   "execution_count": 82,
   "metadata": {},
   "outputs": [
    {
     "data": {
      "text/plain": [
       "-9.061494541820853"
      ]
     },
     "execution_count": 82,
     "metadata": {},
     "output_type": "execute_result"
    }
   ],
   "source": [
    "Rho1 = rho(tau1)\n",
    "Rho1"
   ]
  },
  {
   "cell_type": "code",
   "execution_count": 199,
   "metadata": {},
   "outputs": [
    {
     "data": {
      "text/plain": [
       "(0.07, 0.1)"
      ]
     },
     "execution_count": 199,
     "metadata": {},
     "output_type": "execute_result"
    }
   ],
   "source": [
    "0.07, 0.1"
   ]
  },
  {
   "cell_type": "code",
   "execution_count": 210,
   "metadata": {},
   "outputs": [
    {
     "data": {
      "text/plain": [
       "5.2353960055548304e-58"
      ]
     },
     "execution_count": 210,
     "metadata": {},
     "output_type": "execute_result"
    }
   ],
   "source": [
    "c = 299792458\n",
    "h = 1.05457182e-34\n",
    "(0.1/(2*tau2*1e-9))*np.sqrt((192*(np.pi**3)*(h**7))/((m**5)*(c**4)))"
   ]
  },
  {
   "cell_type": "code",
   "execution_count": 90,
   "metadata": {},
   "outputs": [
    {
     "data": {
      "text/html": [
       "<div>\n",
       "<style scoped>\n",
       "    .dataframe tbody tr th:only-of-type {\n",
       "        vertical-align: middle;\n",
       "    }\n",
       "\n",
       "    .dataframe tbody tr th {\n",
       "        vertical-align: top;\n",
       "    }\n",
       "\n",
       "    .dataframe thead th {\n",
       "        text-align: right;\n",
       "    }\n",
       "</style>\n",
       "<table border=\"1\" class=\"dataframe\">\n",
       "  <thead>\n",
       "    <tr style=\"text-align: right;\">\n",
       "      <th></th>\n",
       "      <th>t</th>\n",
       "      <th>x</th>\n",
       "      <th>y</th>\n",
       "    </tr>\n",
       "  </thead>\n",
       "  <tbody>\n",
       "    <tr>\n",
       "      <th>0</th>\n",
       "      <td>0.033</td>\n",
       "      <td>8.468</td>\n",
       "      <td>17.78</td>\n",
       "    </tr>\n",
       "    <tr>\n",
       "      <th>1</th>\n",
       "      <td>0.067</td>\n",
       "      <td>8.704</td>\n",
       "      <td>17.88</td>\n",
       "    </tr>\n",
       "    <tr>\n",
       "      <th>2</th>\n",
       "      <td>0.100</td>\n",
       "      <td>9.503</td>\n",
       "      <td>18.11</td>\n",
       "    </tr>\n",
       "    <tr>\n",
       "      <th>3</th>\n",
       "      <td>0.133</td>\n",
       "      <td>11.010</td>\n",
       "      <td>17.83</td>\n",
       "    </tr>\n",
       "    <tr>\n",
       "      <th>4</th>\n",
       "      <td>0.167</td>\n",
       "      <td>12.190</td>\n",
       "      <td>17.78</td>\n",
       "    </tr>\n",
       "    <tr>\n",
       "      <th>...</th>\n",
       "      <td>...</td>\n",
       "      <td>...</td>\n",
       "      <td>...</td>\n",
       "    </tr>\n",
       "    <tr>\n",
       "      <th>119</th>\n",
       "      <td>4.000</td>\n",
       "      <td>25.640</td>\n",
       "      <td>18.11</td>\n",
       "    </tr>\n",
       "    <tr>\n",
       "      <th>120</th>\n",
       "      <td>4.033</td>\n",
       "      <td>25.590</td>\n",
       "      <td>18.11</td>\n",
       "    </tr>\n",
       "    <tr>\n",
       "      <th>121</th>\n",
       "      <td>4.067</td>\n",
       "      <td>25.590</td>\n",
       "      <td>18.11</td>\n",
       "    </tr>\n",
       "    <tr>\n",
       "      <th>122</th>\n",
       "      <td>4.100</td>\n",
       "      <td>25.590</td>\n",
       "      <td>18.11</td>\n",
       "    </tr>\n",
       "    <tr>\n",
       "      <th>123</th>\n",
       "      <td>4.133</td>\n",
       "      <td>25.590</td>\n",
       "      <td>18.11</td>\n",
       "    </tr>\n",
       "  </tbody>\n",
       "</table>\n",
       "<p>124 rows × 3 columns</p>\n",
       "</div>"
      ],
      "text/plain": [
       "         t       x      y\n",
       "0    0.033   8.468  17.78\n",
       "1    0.067   8.704  17.88\n",
       "2    0.100   9.503  18.11\n",
       "3    0.133  11.010  17.83\n",
       "4    0.167  12.190  17.78\n",
       "..     ...     ...    ...\n",
       "119  4.000  25.640  18.11\n",
       "120  4.033  25.590  18.11\n",
       "121  4.067  25.590  18.11\n",
       "122  4.100  25.590  18.11\n",
       "123  4.133  25.590  18.11\n",
       "\n",
       "[124 rows x 3 columns]"
      ]
     },
     "execution_count": 90,
     "metadata": {},
     "output_type": "execute_result"
    }
   ],
   "source": [
    "data #['x2']=data.x"
   ]
  },
  {
   "cell_type": "code",
   "execution_count": 85,
   "metadata": {},
   "outputs": [
    {
     "name": "stdout",
     "output_type": "stream",
     "text": [
      "                            OLS Regression Results                            \n",
      "==============================================================================\n",
      "Dep. Variable:                      t   R-squared:                       0.466\n",
      "Model:                            OLS   Adj. R-squared:                  0.461\n",
      "Method:                 Least Squares   F-statistic:                     106.3\n",
      "Date:                Mon, 22 May 2023   Prob (F-statistic):           2.64e-18\n",
      "Time:                        12:49:41   Log-Likelihood:                -159.00\n",
      "No. Observations:                 124   AIC:                             322.0\n",
      "Df Residuals:                     122   BIC:                             327.6\n",
      "Df Model:                           1                                         \n",
      "Covariance Type:            nonrobust                                         \n",
      "==============================================================================\n",
      "                 coef    std err          t      P>|t|      [0.025      0.975]\n",
      "------------------------------------------------------------------------------\n",
      "Intercept     -2.9114      0.491     -5.931      0.000      -3.883      -1.940\n",
      "x              0.2109      0.020     10.309      0.000       0.170       0.251\n",
      "==============================================================================\n",
      "Omnibus:                       49.217   Durbin-Watson:                   0.005\n",
      "Prob(Omnibus):                  0.000   Jarque-Bera (JB):                8.701\n",
      "Skew:                           0.238   Prob(JB):                       0.0129\n",
      "Kurtosis:                       1.793   Cond. No.                         149.\n",
      "==============================================================================\n",
      "\n",
      "Warnings:\n",
      "[1] Standard Errors assume that the covariance matrix of the errors is correctly specified.\n"
     ]
    }
   ],
   "source": [
    "\n",
    "model = smf.ols(formula=\"t ~ x+x2+x3\", data=data).fit()\n",
    "print(model.summary())"
   ]
  },
  {
   "cell_type": "code",
   "execution_count": null,
   "metadata": {},
   "outputs": [],
   "source": []
  }
 ],
 "metadata": {
  "kernelspec": {
   "display_name": "Python 3",
   "language": "python",
   "name": "python3"
  },
  "language_info": {
   "codemirror_mode": {
    "name": "ipython",
    "version": 3
   },
   "file_extension": ".py",
   "mimetype": "text/x-python",
   "name": "python",
   "nbconvert_exporter": "python",
   "pygments_lexer": "ipython3",
   "version": "3.8.3"
  }
 },
 "nbformat": 4,
 "nbformat_minor": 4
}
